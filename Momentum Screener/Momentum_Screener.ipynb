{
  "nbformat": 4,
  "nbformat_minor": 0,
  "metadata": {
    "colab": {
      "provenance": []
    },
    "kernelspec": {
      "name": "python3",
      "display_name": "Python 3"
    },
    "language_info": {
      "name": "python"
    },
    "widgets": {
      "application/vnd.jupyter.widget-state+json": {
        "c04a7aed07764076aa54833c43ff28b9": {
          "model_module": "@jupyter-widgets/controls",
          "model_name": "HBoxModel",
          "model_module_version": "1.5.0",
          "state": {
            "_dom_classes": [],
            "_model_module": "@jupyter-widgets/controls",
            "_model_module_version": "1.5.0",
            "_model_name": "HBoxModel",
            "_view_count": null,
            "_view_module": "@jupyter-widgets/controls",
            "_view_module_version": "1.5.0",
            "_view_name": "HBoxView",
            "box_style": "",
            "children": [
              "IPY_MODEL_8538a8a38a904510ac2361fe2474d959",
              "IPY_MODEL_c2cffd5bf62e4eff870446522ca57d94"
            ],
            "layout": "IPY_MODEL_6c2719c4b3fe4ac384264ea0db27c732"
          }
        },
        "8538a8a38a904510ac2361fe2474d959": {
          "model_module": "@jupyter-widgets/controls",
          "model_name": "LabelModel",
          "model_module_version": "1.5.0",
          "state": {
            "_dom_classes": [],
            "_model_module": "@jupyter-widgets/controls",
            "_model_module_version": "1.5.0",
            "_model_name": "LabelModel",
            "_view_count": null,
            "_view_module": "@jupyter-widgets/controls",
            "_view_module_version": "1.5.0",
            "_view_name": "LabelView",
            "description": "",
            "description_tooltip": null,
            "layout": "IPY_MODEL_b05e84f7798c4d97972f50d62072fa7c",
            "placeholder": "​",
            "style": "IPY_MODEL_535276ff802a484cb3369a8a6f3520eb",
            "value": "Upload Input Symbols CSV file:"
          }
        },
        "c2cffd5bf62e4eff870446522ca57d94": {
          "model_module": "@jupyter-widgets/controls",
          "model_name": "FileUploadModel",
          "model_module_version": "1.5.0",
          "state": {
            "_counter": 1,
            "_dom_classes": [],
            "_model_module": "@jupyter-widgets/controls",
            "_model_module_version": "1.5.0",
            "_model_name": "FileUploadModel",
            "_view_count": null,
            "_view_module": "@jupyter-widgets/controls",
            "_view_module_version": "1.5.0",
            "_view_name": "FileUploadView",
            "accept": ".csv",
            "button_style": "",
            "data": [
              null
            ],
            "description": "Upload",
            "description_tooltip": null,
            "disabled": false,
            "error": "",
            "icon": "upload",
            "layout": "IPY_MODEL_26742f9e16104466af9117faf0faffa3",
            "metadata": [
              {
                "name": "nifty_mid_small_cap_400_shariah_list.csv",
                "type": "text/csv",
                "size": 14905,
                "lastModified": 1730360530507
              }
            ],
            "multiple": false,
            "style": "IPY_MODEL_e67d956b34344e2aa60fc5cc6ffdb671"
          }
        },
        "6c2719c4b3fe4ac384264ea0db27c732": {
          "model_module": "@jupyter-widgets/base",
          "model_name": "LayoutModel",
          "model_module_version": "1.2.0",
          "state": {
            "_model_module": "@jupyter-widgets/base",
            "_model_module_version": "1.2.0",
            "_model_name": "LayoutModel",
            "_view_count": null,
            "_view_module": "@jupyter-widgets/base",
            "_view_module_version": "1.2.0",
            "_view_name": "LayoutView",
            "align_content": null,
            "align_items": null,
            "align_self": null,
            "border": null,
            "bottom": null,
            "display": null,
            "flex": null,
            "flex_flow": null,
            "grid_area": null,
            "grid_auto_columns": null,
            "grid_auto_flow": null,
            "grid_auto_rows": null,
            "grid_column": null,
            "grid_gap": null,
            "grid_row": null,
            "grid_template_areas": null,
            "grid_template_columns": null,
            "grid_template_rows": null,
            "height": null,
            "justify_content": null,
            "justify_items": null,
            "left": null,
            "margin": null,
            "max_height": null,
            "max_width": null,
            "min_height": null,
            "min_width": null,
            "object_fit": null,
            "object_position": null,
            "order": null,
            "overflow": null,
            "overflow_x": null,
            "overflow_y": null,
            "padding": null,
            "right": null,
            "top": null,
            "visibility": null,
            "width": null
          }
        },
        "b05e84f7798c4d97972f50d62072fa7c": {
          "model_module": "@jupyter-widgets/base",
          "model_name": "LayoutModel",
          "model_module_version": "1.2.0",
          "state": {
            "_model_module": "@jupyter-widgets/base",
            "_model_module_version": "1.2.0",
            "_model_name": "LayoutModel",
            "_view_count": null,
            "_view_module": "@jupyter-widgets/base",
            "_view_module_version": "1.2.0",
            "_view_name": "LayoutView",
            "align_content": null,
            "align_items": null,
            "align_self": null,
            "border": null,
            "bottom": null,
            "display": null,
            "flex": null,
            "flex_flow": null,
            "grid_area": null,
            "grid_auto_columns": null,
            "grid_auto_flow": null,
            "grid_auto_rows": null,
            "grid_column": null,
            "grid_gap": null,
            "grid_row": null,
            "grid_template_areas": null,
            "grid_template_columns": null,
            "grid_template_rows": null,
            "height": null,
            "justify_content": null,
            "justify_items": null,
            "left": null,
            "margin": null,
            "max_height": null,
            "max_width": null,
            "min_height": null,
            "min_width": null,
            "object_fit": null,
            "object_position": null,
            "order": null,
            "overflow": null,
            "overflow_x": null,
            "overflow_y": null,
            "padding": null,
            "right": null,
            "top": null,
            "visibility": null,
            "width": null
          }
        },
        "535276ff802a484cb3369a8a6f3520eb": {
          "model_module": "@jupyter-widgets/controls",
          "model_name": "DescriptionStyleModel",
          "model_module_version": "1.5.0",
          "state": {
            "_model_module": "@jupyter-widgets/controls",
            "_model_module_version": "1.5.0",
            "_model_name": "DescriptionStyleModel",
            "_view_count": null,
            "_view_module": "@jupyter-widgets/base",
            "_view_module_version": "1.2.0",
            "_view_name": "StyleView",
            "description_width": ""
          }
        },
        "26742f9e16104466af9117faf0faffa3": {
          "model_module": "@jupyter-widgets/base",
          "model_name": "LayoutModel",
          "model_module_version": "1.2.0",
          "state": {
            "_model_module": "@jupyter-widgets/base",
            "_model_module_version": "1.2.0",
            "_model_name": "LayoutModel",
            "_view_count": null,
            "_view_module": "@jupyter-widgets/base",
            "_view_module_version": "1.2.0",
            "_view_name": "LayoutView",
            "align_content": null,
            "align_items": null,
            "align_self": null,
            "border": null,
            "bottom": null,
            "display": null,
            "flex": null,
            "flex_flow": null,
            "grid_area": null,
            "grid_auto_columns": null,
            "grid_auto_flow": null,
            "grid_auto_rows": null,
            "grid_column": null,
            "grid_gap": null,
            "grid_row": null,
            "grid_template_areas": null,
            "grid_template_columns": null,
            "grid_template_rows": null,
            "height": null,
            "justify_content": null,
            "justify_items": null,
            "left": null,
            "margin": null,
            "max_height": null,
            "max_width": null,
            "min_height": null,
            "min_width": null,
            "object_fit": null,
            "object_position": null,
            "order": null,
            "overflow": null,
            "overflow_x": null,
            "overflow_y": null,
            "padding": null,
            "right": null,
            "top": null,
            "visibility": null,
            "width": null
          }
        },
        "e67d956b34344e2aa60fc5cc6ffdb671": {
          "model_module": "@jupyter-widgets/controls",
          "model_name": "ButtonStyleModel",
          "model_module_version": "1.5.0",
          "state": {
            "_model_module": "@jupyter-widgets/controls",
            "_model_module_version": "1.5.0",
            "_model_name": "ButtonStyleModel",
            "_view_count": null,
            "_view_module": "@jupyter-widgets/base",
            "_view_module_version": "1.2.0",
            "_view_name": "StyleView",
            "button_color": null,
            "font_weight": ""
          }
        },
        "207b23cee55947f0a9d7a945afdd7db5": {
          "model_module": "@jupyter-widgets/controls",
          "model_name": "DatePickerModel",
          "model_module_version": "1.5.0",
          "state": {
            "_dom_classes": [],
            "_model_module": "@jupyter-widgets/controls",
            "_model_module_version": "1.5.0",
            "_model_name": "DatePickerModel",
            "_view_count": null,
            "_view_module": "@jupyter-widgets/controls",
            "_view_module_version": "1.5.0",
            "_view_name": "DatePickerView",
            "description": "Stock Data Till:",
            "description_tooltip": null,
            "disabled": false,
            "layout": "IPY_MODEL_e07fe11277c64c50a8692543ee8497c6",
            "style": "IPY_MODEL_3a1e567dda1e4a77875548c4b840af1c",
            "value": {
              "year": 2024,
              "month": 10,
              "date": 19
            }
          }
        },
        "e07fe11277c64c50a8692543ee8497c6": {
          "model_module": "@jupyter-widgets/base",
          "model_name": "LayoutModel",
          "model_module_version": "1.2.0",
          "state": {
            "_model_module": "@jupyter-widgets/base",
            "_model_module_version": "1.2.0",
            "_model_name": "LayoutModel",
            "_view_count": null,
            "_view_module": "@jupyter-widgets/base",
            "_view_module_version": "1.2.0",
            "_view_name": "LayoutView",
            "align_content": null,
            "align_items": null,
            "align_self": null,
            "border": null,
            "bottom": null,
            "display": null,
            "flex": null,
            "flex_flow": null,
            "grid_area": null,
            "grid_auto_columns": null,
            "grid_auto_flow": null,
            "grid_auto_rows": null,
            "grid_column": null,
            "grid_gap": null,
            "grid_row": null,
            "grid_template_areas": null,
            "grid_template_columns": null,
            "grid_template_rows": null,
            "height": null,
            "justify_content": null,
            "justify_items": null,
            "left": null,
            "margin": null,
            "max_height": null,
            "max_width": null,
            "min_height": null,
            "min_width": null,
            "object_fit": null,
            "object_position": null,
            "order": null,
            "overflow": null,
            "overflow_x": null,
            "overflow_y": null,
            "padding": null,
            "right": null,
            "top": null,
            "visibility": null,
            "width": "50%"
          }
        },
        "3a1e567dda1e4a77875548c4b840af1c": {
          "model_module": "@jupyter-widgets/controls",
          "model_name": "DescriptionStyleModel",
          "model_module_version": "1.5.0",
          "state": {
            "_model_module": "@jupyter-widgets/controls",
            "_model_module_version": "1.5.0",
            "_model_name": "DescriptionStyleModel",
            "_view_count": null,
            "_view_module": "@jupyter-widgets/base",
            "_view_module_version": "1.2.0",
            "_view_name": "StyleView",
            "description_width": "initial"
          }
        },
        "b5fdef99cbac4584ae014b1e3a6557a0": {
          "model_module": "@jupyter-widgets/controls",
          "model_name": "IntTextModel",
          "model_module_version": "1.5.0",
          "state": {
            "_dom_classes": [],
            "_model_module": "@jupyter-widgets/controls",
            "_model_module_version": "1.5.0",
            "_model_name": "IntTextModel",
            "_view_count": null,
            "_view_module": "@jupyter-widgets/controls",
            "_view_module_version": "1.5.0",
            "_view_name": "IntTextView",
            "continuous_update": false,
            "description": "Minimum Stock Price:",
            "description_tooltip": null,
            "disabled": false,
            "layout": "IPY_MODEL_e07fe11277c64c50a8692543ee8497c6",
            "step": 1,
            "style": "IPY_MODEL_97b60da427b447c4a6d516ccca209dac",
            "value": 50
          }
        },
        "97b60da427b447c4a6d516ccca209dac": {
          "model_module": "@jupyter-widgets/controls",
          "model_name": "DescriptionStyleModel",
          "model_module_version": "1.5.0",
          "state": {
            "_model_module": "@jupyter-widgets/controls",
            "_model_module_version": "1.5.0",
            "_model_name": "DescriptionStyleModel",
            "_view_count": null,
            "_view_module": "@jupyter-widgets/base",
            "_view_module_version": "1.2.0",
            "_view_name": "StyleView",
            "description_width": "initial"
          }
        },
        "467e2946c12c48d692b3d2e8c5b2fef0": {
          "model_module": "@jupyter-widgets/controls",
          "model_name": "IntTextModel",
          "model_module_version": "1.5.0",
          "state": {
            "_dom_classes": [],
            "_model_module": "@jupyter-widgets/controls",
            "_model_module_version": "1.5.0",
            "_model_name": "IntTextModel",
            "_view_count": null,
            "_view_module": "@jupyter-widgets/controls",
            "_view_module_version": "1.5.0",
            "_view_name": "IntTextView",
            "continuous_update": false,
            "description": "Short-Term Period (Candles):",
            "description_tooltip": null,
            "disabled": false,
            "layout": "IPY_MODEL_e07fe11277c64c50a8692543ee8497c6",
            "step": 1,
            "style": "IPY_MODEL_e05908c21a8d4bd0b269c3ef26eb9a64",
            "value": 21
          }
        },
        "e05908c21a8d4bd0b269c3ef26eb9a64": {
          "model_module": "@jupyter-widgets/controls",
          "model_name": "DescriptionStyleModel",
          "model_module_version": "1.5.0",
          "state": {
            "_model_module": "@jupyter-widgets/controls",
            "_model_module_version": "1.5.0",
            "_model_name": "DescriptionStyleModel",
            "_view_count": null,
            "_view_module": "@jupyter-widgets/base",
            "_view_module_version": "1.2.0",
            "_view_name": "StyleView",
            "description_width": "initial"
          }
        },
        "d91335c2d2224f8c9b81bb621967d657": {
          "model_module": "@jupyter-widgets/controls",
          "model_name": "IntTextModel",
          "model_module_version": "1.5.0",
          "state": {
            "_dom_classes": [],
            "_model_module": "@jupyter-widgets/controls",
            "_model_module_version": "1.5.0",
            "_model_name": "IntTextModel",
            "_view_count": null,
            "_view_module": "@jupyter-widgets/controls",
            "_view_module_version": "1.5.0",
            "_view_name": "IntTextView",
            "continuous_update": false,
            "description": "Medium-Term Period (Candles):",
            "description_tooltip": null,
            "disabled": false,
            "layout": "IPY_MODEL_e07fe11277c64c50a8692543ee8497c6",
            "step": 1,
            "style": "IPY_MODEL_99bc04bd9fe341568ee43c8287ea3933",
            "value": 63
          }
        },
        "99bc04bd9fe341568ee43c8287ea3933": {
          "model_module": "@jupyter-widgets/controls",
          "model_name": "DescriptionStyleModel",
          "model_module_version": "1.5.0",
          "state": {
            "_model_module": "@jupyter-widgets/controls",
            "_model_module_version": "1.5.0",
            "_model_name": "DescriptionStyleModel",
            "_view_count": null,
            "_view_module": "@jupyter-widgets/base",
            "_view_module_version": "1.2.0",
            "_view_name": "StyleView",
            "description_width": "initial"
          }
        },
        "ea19e9d412664cf8aaf335addaba3f67": {
          "model_module": "@jupyter-widgets/controls",
          "model_name": "IntTextModel",
          "model_module_version": "1.5.0",
          "state": {
            "_dom_classes": [],
            "_model_module": "@jupyter-widgets/controls",
            "_model_module_version": "1.5.0",
            "_model_name": "IntTextModel",
            "_view_count": null,
            "_view_module": "@jupyter-widgets/controls",
            "_view_module_version": "1.5.0",
            "_view_name": "IntTextView",
            "continuous_update": false,
            "description": "Long-Term Period (Candles):",
            "description_tooltip": null,
            "disabled": false,
            "layout": "IPY_MODEL_e07fe11277c64c50a8692543ee8497c6",
            "step": 1,
            "style": "IPY_MODEL_63878a763daa42ca88494828eb039e8e",
            "value": 126
          }
        },
        "63878a763daa42ca88494828eb039e8e": {
          "model_module": "@jupyter-widgets/controls",
          "model_name": "DescriptionStyleModel",
          "model_module_version": "1.5.0",
          "state": {
            "_model_module": "@jupyter-widgets/controls",
            "_model_module_version": "1.5.0",
            "_model_name": "DescriptionStyleModel",
            "_view_count": null,
            "_view_module": "@jupyter-widgets/base",
            "_view_module_version": "1.2.0",
            "_view_name": "StyleView",
            "description_width": "initial"
          }
        },
        "685bd33245e3424aa5b185b162dc084a": {
          "model_module": "@jupyter-widgets/controls",
          "model_name": "IntTextModel",
          "model_module_version": "1.5.0",
          "state": {
            "_dom_classes": [],
            "_model_module": "@jupyter-widgets/controls",
            "_model_module_version": "1.5.0",
            "_model_name": "IntTextModel",
            "_view_count": null,
            "_view_module": "@jupyter-widgets/controls",
            "_view_module_version": "1.5.0",
            "_view_name": "IntTextView",
            "continuous_update": false,
            "description": "RSI Period:",
            "description_tooltip": null,
            "disabled": false,
            "layout": "IPY_MODEL_e07fe11277c64c50a8692543ee8497c6",
            "step": 1,
            "style": "IPY_MODEL_3567cb3d0a294801a030353312f7b3d2",
            "value": 14
          }
        },
        "3567cb3d0a294801a030353312f7b3d2": {
          "model_module": "@jupyter-widgets/controls",
          "model_name": "DescriptionStyleModel",
          "model_module_version": "1.5.0",
          "state": {
            "_model_module": "@jupyter-widgets/controls",
            "_model_module_version": "1.5.0",
            "_model_name": "DescriptionStyleModel",
            "_view_count": null,
            "_view_module": "@jupyter-widgets/base",
            "_view_module_version": "1.2.0",
            "_view_name": "StyleView",
            "description_width": "initial"
          }
        },
        "3744ef8406134ab7a9cb017508077e15": {
          "model_module": "@jupyter-widgets/controls",
          "model_name": "IntTextModel",
          "model_module_version": "1.5.0",
          "state": {
            "_dom_classes": [],
            "_model_module": "@jupyter-widgets/controls",
            "_model_module_version": "1.5.0",
            "_model_name": "IntTextModel",
            "_view_count": null,
            "_view_module": "@jupyter-widgets/controls",
            "_view_module_version": "1.5.0",
            "_view_name": "IntTextView",
            "continuous_update": false,
            "description": "Short-Term RS Period:",
            "description_tooltip": null,
            "disabled": false,
            "layout": "IPY_MODEL_e07fe11277c64c50a8692543ee8497c6",
            "step": 1,
            "style": "IPY_MODEL_5920194f2c6d48e982fa5bd3d7a3217c",
            "value": 20
          }
        },
        "5920194f2c6d48e982fa5bd3d7a3217c": {
          "model_module": "@jupyter-widgets/controls",
          "model_name": "DescriptionStyleModel",
          "model_module_version": "1.5.0",
          "state": {
            "_model_module": "@jupyter-widgets/controls",
            "_model_module_version": "1.5.0",
            "_model_name": "DescriptionStyleModel",
            "_view_count": null,
            "_view_module": "@jupyter-widgets/base",
            "_view_module_version": "1.2.0",
            "_view_name": "StyleView",
            "description_width": "initial"
          }
        },
        "837e4811835f49a0a8cd1399dde5d225": {
          "model_module": "@jupyter-widgets/controls",
          "model_name": "IntTextModel",
          "model_module_version": "1.5.0",
          "state": {
            "_dom_classes": [],
            "_model_module": "@jupyter-widgets/controls",
            "_model_module_version": "1.5.0",
            "_model_name": "IntTextModel",
            "_view_count": null,
            "_view_module": "@jupyter-widgets/controls",
            "_view_module_version": "1.5.0",
            "_view_name": "IntTextView",
            "continuous_update": false,
            "description": "Medium-Term RS Period:",
            "description_tooltip": null,
            "disabled": false,
            "layout": "IPY_MODEL_e07fe11277c64c50a8692543ee8497c6",
            "step": 1,
            "style": "IPY_MODEL_1ff4085deb264a53b88c78a63e763e06",
            "value": 50
          }
        },
        "1ff4085deb264a53b88c78a63e763e06": {
          "model_module": "@jupyter-widgets/controls",
          "model_name": "DescriptionStyleModel",
          "model_module_version": "1.5.0",
          "state": {
            "_model_module": "@jupyter-widgets/controls",
            "_model_module_version": "1.5.0",
            "_model_name": "DescriptionStyleModel",
            "_view_count": null,
            "_view_module": "@jupyter-widgets/base",
            "_view_module_version": "1.2.0",
            "_view_name": "StyleView",
            "description_width": "initial"
          }
        },
        "6effad105b6742299b3bdb2c8a086713": {
          "model_module": "@jupyter-widgets/controls",
          "model_name": "IntTextModel",
          "model_module_version": "1.5.0",
          "state": {
            "_dom_classes": [],
            "_model_module": "@jupyter-widgets/controls",
            "_model_module_version": "1.5.0",
            "_model_name": "IntTextModel",
            "_view_count": null,
            "_view_module": "@jupyter-widgets/controls",
            "_view_module_version": "1.5.0",
            "_view_name": "IntTextView",
            "continuous_update": false,
            "description": "Minimum One-Year Return (%):",
            "description_tooltip": null,
            "disabled": false,
            "layout": "IPY_MODEL_e07fe11277c64c50a8692543ee8497c6",
            "step": 1,
            "style": "IPY_MODEL_c6c24361d80d447eb67ee8c3db3765bb",
            "value": 7
          }
        },
        "c6c24361d80d447eb67ee8c3db3765bb": {
          "model_module": "@jupyter-widgets/controls",
          "model_name": "DescriptionStyleModel",
          "model_module_version": "1.5.0",
          "state": {
            "_model_module": "@jupyter-widgets/controls",
            "_model_module_version": "1.5.0",
            "_model_name": "DescriptionStyleModel",
            "_view_count": null,
            "_view_module": "@jupyter-widgets/base",
            "_view_module_version": "1.2.0",
            "_view_name": "StyleView",
            "description_width": "initial"
          }
        },
        "d57ac9c9ca2c47819be4fb06c83fb2fd": {
          "model_module": "@jupyter-widgets/controls",
          "model_name": "IntTextModel",
          "model_module_version": "1.5.0",
          "state": {
            "_dom_classes": [],
            "_model_module": "@jupyter-widgets/controls",
            "_model_module_version": "1.5.0",
            "_model_name": "IntTextModel",
            "_view_count": null,
            "_view_module": "@jupyter-widgets/controls",
            "_view_module_version": "1.5.0",
            "_view_name": "IntTextView",
            "continuous_update": false,
            "description": "Within 52 Weeks High (%):",
            "description_tooltip": null,
            "disabled": false,
            "layout": "IPY_MODEL_e07fe11277c64c50a8692543ee8497c6",
            "step": 1,
            "style": "IPY_MODEL_98a480684bf24a9ea9e733cfb80055e6",
            "value": 25
          }
        },
        "98a480684bf24a9ea9e733cfb80055e6": {
          "model_module": "@jupyter-widgets/controls",
          "model_name": "DescriptionStyleModel",
          "model_module_version": "1.5.0",
          "state": {
            "_model_module": "@jupyter-widgets/controls",
            "_model_module_version": "1.5.0",
            "_model_name": "DescriptionStyleModel",
            "_view_count": null,
            "_view_module": "@jupyter-widgets/base",
            "_view_module_version": "1.2.0",
            "_view_name": "StyleView",
            "description_width": "initial"
          }
        },
        "4c497990200e45ec8e887d1c8570443e": {
          "model_module": "@jupyter-widgets/controls",
          "model_name": "IntTextModel",
          "model_module_version": "1.5.0",
          "state": {
            "_dom_classes": [],
            "_model_module": "@jupyter-widgets/controls",
            "_model_module_version": "1.5.0",
            "_model_name": "IntTextModel",
            "_view_count": null,
            "_view_module": "@jupyter-widgets/controls",
            "_view_module_version": "1.5.0",
            "_view_name": "IntTextView",
            "continuous_update": false,
            "description": "Minimum Up Days (%):",
            "description_tooltip": null,
            "disabled": false,
            "layout": "IPY_MODEL_e07fe11277c64c50a8692543ee8497c6",
            "step": 1,
            "style": "IPY_MODEL_0d7ee134b41844beba03c3591e370028",
            "value": 45
          }
        },
        "0d7ee134b41844beba03c3591e370028": {
          "model_module": "@jupyter-widgets/controls",
          "model_name": "DescriptionStyleModel",
          "model_module_version": "1.5.0",
          "state": {
            "_model_module": "@jupyter-widgets/controls",
            "_model_module_version": "1.5.0",
            "_model_name": "DescriptionStyleModel",
            "_view_count": null,
            "_view_module": "@jupyter-widgets/base",
            "_view_module_version": "1.2.0",
            "_view_name": "StyleView",
            "description_width": "initial"
          }
        }
      }
    }
  },
  "cells": [
    {
      "cell_type": "markdown",
      "source": [
        "```\n",
        "Author: Naved Iqbal\n",
        "\n",
        "Email: navediqbal5@gmail.com\n",
        "\n",
        "GitHub: https://github.com/Naved-Iqbal/StockTrading.git\n",
        "```"
      ],
      "metadata": {
        "id": "hXoshLQJWnpm"
      }
    },
    {
      "cell_type": "markdown",
      "source": [
        "## **Momentum Scanner**\n",
        "\n",
        "This code analyzes a list of stocks from the Indian stock market (NSE) and ranks them based on their momentum over various periods (6 months, 3 months, and 1 month). It uses technical indicators such as Exponential Moving Averages (EMAs) and Relative Strength Index (RSI) to identify stocks with strong upward trends and potential for future growth. The code generates a table visualizing the top-ranked stocks based on their momentum scores. You can also save the result in to Google drive in MS-Excel format.\n",
        "\n",
        "---\n",
        "\n",
        "![image.png](data:image/png;base64,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)"
      ],
      "metadata": {
        "id": "5aAgc5qPrb5t"
      }
    },
    {
      "cell_type": "markdown",
      "source": [
        "**Import Necessary Libraries**\n",
        "\n",
        "Import libraries for financial analysis, data handling, and visualization."
      ],
      "metadata": {
        "id": "Ma_gtn1t1PBw"
      }
    },
    {
      "cell_type": "code",
      "execution_count": 24,
      "metadata": {
        "id": "wBaIlR9T4Lmx"
      },
      "outputs": [],
      "source": [
        "import yfinance as yf\n",
        "import pandas as pd\n",
        "import numpy as np\n",
        "from datetime import datetime, timedelta\n",
        "import pytz\n",
        "import matplotlib.pyplot as plt\n",
        "from matplotlib.table import Table\n",
        "from google.colab import drive, files\n",
        "import ipywidgets as widgets\n"
      ]
    },
    {
      "cell_type": "markdown",
      "source": [
        "**Configuration**\n",
        "\n",
        "Set parameters for data sources, momentum calculation, technical indicators, and stock selection criteria."
      ],
      "metadata": {
        "id": "SjZEBSFJ2Bld"
      }
    },
    {
      "cell_type": "code",
      "source": [
        "# Adjust layout to increase width\n",
        "layout = widgets.Layout(width='50%')\n",
        "style = {'description_width': 'initial'}\n",
        "\n",
        "\n",
        "# # Add end date pickers\n",
        "# today_date_obj = datetime.today()\n",
        "\n",
        "ist_timezone = pytz.timezone('Asia/Kolkata')\n",
        "today_date_obj = datetime.now(ist_timezone)\n",
        "\n",
        "end_date_picker = widgets.DatePicker(\n",
        "    value = today_date_obj,\n",
        "    description='Stock Data Till:',\n",
        "    disabled=False,\n",
        "    layout = layout,\n",
        "    style = style\n",
        ")\n",
        "\n",
        "# Create a label\n",
        "label = widgets.Label(value=\"Upload Input Symbols CSV file:\")\n",
        "\n",
        "input_symbols_file = widgets.FileUpload(\n",
        "    disabled=False,\n",
        "    accept='.csv',  # Accepted file extension e.g. '.txt', '.pdf', 'image/*', 'image/*,.pdf'\n",
        "    multiple=False  # True to accept multiple files upload else False\n",
        ")\n",
        "\n",
        "minimum_stock_price = widgets.IntText(\n",
        "    value=50,\n",
        "    description='Minimum Stock Price:',\n",
        "    disabled=False,\n",
        "    min=1,\n",
        "    layout = layout,\n",
        "    style = style\n",
        ")\n",
        "\n",
        "short_term_period = widgets.IntText(\n",
        "    value=21,\n",
        "    description='Short-Term Period (Candles):',\n",
        "    disabled=False,\n",
        "    min=1,\n",
        "    layout = layout,\n",
        "    style = style\n",
        ")\n",
        "\n",
        "medium_term_period = widgets.IntText(\n",
        "    value=63,\n",
        "    description='Medium-Term Period (Candles):',\n",
        "    disabled=False,\n",
        "    min=1,\n",
        "    layout = layout,\n",
        "    style = style\n",
        ")\n",
        "\n",
        "long_term_period = widgets.IntText(\n",
        "    value=126,\n",
        "    description='Long-Term Period (Candles):',\n",
        "    disabled=False,\n",
        "    min=1,\n",
        "    layout = layout,\n",
        "    style = style\n",
        ")\n",
        "\n",
        "rsi_period = widgets.IntText(\n",
        "    value=14,\n",
        "    description='RSI Period:',\n",
        "    disabled=False,\n",
        "    min=1,\n",
        "    max=100,\n",
        "    layout = layout,\n",
        "    style = style\n",
        ")\n",
        "\n",
        "short_term_rs_period = widgets.IntText(\n",
        "    value=20,\n",
        "    description='Short-Term RS Period:',\n",
        "    disabled=False,\n",
        "    min=1,\n",
        "    layout = layout,\n",
        "    style = style\n",
        ")\n",
        "\n",
        "medium_term_rs_period = widgets.IntText(\n",
        "    value=50,\n",
        "    description='Medium-Term RS Period:',\n",
        "    disabled=False,\n",
        "    min=1,\n",
        "    layout = layout,\n",
        "    style = style\n",
        ")\n",
        "\n",
        "minimum_one_year_return = widgets.IntText(\n",
        "    value=7,\n",
        "    description='Minimum One-Year Return (%):',\n",
        "    disabled=False,\n",
        "    min=1,\n",
        "    max=100,\n",
        "    layout = layout,\n",
        "    style = style\n",
        ")\n",
        "\n",
        "within_52_weeks_high_pct = widgets.IntText(\n",
        "    value=25,\n",
        "    description='Within 52 Weeks High (%):',\n",
        "    disabled=False,\n",
        "    min=1,\n",
        "    max=100,\n",
        "    layout = layout,\n",
        "    style = style\n",
        ")\n",
        "\n",
        "minumun_up_days_pct = widgets.IntText(\n",
        "    value=45,\n",
        "    description='Minimum Up Days (%):',\n",
        "    disabled=False,\n",
        "    min=1,\n",
        "    max=100,\n",
        "    layout = layout,\n",
        "    style = style\n",
        ")\n",
        "\n",
        "\n",
        "\n",
        "\n",
        "# Display the widgets\n",
        "display(widgets.HBox([label, input_symbols_file]), end_date_picker, minimum_stock_price,\n",
        "        short_term_period, medium_term_period, long_term_period, rsi_period,\n",
        "        short_term_rs_period, medium_term_rs_period, minimum_one_year_return, within_52_weeks_high_pct, minumun_up_days_pct)"
      ],
      "metadata": {
        "colab": {
          "base_uri": "https://localhost:8080/",
          "height": 384,
          "referenced_widgets": [
            "c04a7aed07764076aa54833c43ff28b9",
            "8538a8a38a904510ac2361fe2474d959",
            "c2cffd5bf62e4eff870446522ca57d94",
            "6c2719c4b3fe4ac384264ea0db27c732",
            "b05e84f7798c4d97972f50d62072fa7c",
            "535276ff802a484cb3369a8a6f3520eb",
            "26742f9e16104466af9117faf0faffa3",
            "e67d956b34344e2aa60fc5cc6ffdb671",
            "207b23cee55947f0a9d7a945afdd7db5",
            "e07fe11277c64c50a8692543ee8497c6",
            "3a1e567dda1e4a77875548c4b840af1c",
            "b5fdef99cbac4584ae014b1e3a6557a0",
            "97b60da427b447c4a6d516ccca209dac",
            "467e2946c12c48d692b3d2e8c5b2fef0",
            "e05908c21a8d4bd0b269c3ef26eb9a64",
            "d91335c2d2224f8c9b81bb621967d657",
            "99bc04bd9fe341568ee43c8287ea3933",
            "ea19e9d412664cf8aaf335addaba3f67",
            "63878a763daa42ca88494828eb039e8e",
            "685bd33245e3424aa5b185b162dc084a",
            "3567cb3d0a294801a030353312f7b3d2",
            "3744ef8406134ab7a9cb017508077e15",
            "5920194f2c6d48e982fa5bd3d7a3217c",
            "837e4811835f49a0a8cd1399dde5d225",
            "1ff4085deb264a53b88c78a63e763e06",
            "6effad105b6742299b3bdb2c8a086713",
            "c6c24361d80d447eb67ee8c3db3765bb",
            "d57ac9c9ca2c47819be4fb06c83fb2fd",
            "98a480684bf24a9ea9e733cfb80055e6",
            "4c497990200e45ec8e887d1c8570443e",
            "0d7ee134b41844beba03c3591e370028"
          ]
        },
        "id": "c3FvhG9KjfU0",
        "outputId": "06c69d70-1870-465a-8c02-e5142ccdb938"
      },
      "execution_count": 25,
      "outputs": [
        {
          "output_type": "display_data",
          "data": {
            "text/plain": [
              "HBox(children=(Label(value='Upload Input Symbols CSV file:'), FileUpload(value={}, accept='.csv', description=…"
            ],
            "application/vnd.jupyter.widget-view+json": {
              "version_major": 2,
              "version_minor": 0,
              "model_id": "c04a7aed07764076aa54833c43ff28b9"
            }
          },
          "metadata": {}
        },
        {
          "output_type": "display_data",
          "data": {
            "text/plain": [
              "DatePicker(value=datetime.datetime(2024, 11, 19, 13, 18, 41, 29795, tzinfo=<DstTzInfo 'Asia/Kolkata' IST+5:30:…"
            ],
            "application/vnd.jupyter.widget-view+json": {
              "version_major": 2,
              "version_minor": 0,
              "model_id": "207b23cee55947f0a9d7a945afdd7db5"
            }
          },
          "metadata": {}
        },
        {
          "output_type": "display_data",
          "data": {
            "text/plain": [
              "IntText(value=50, description='Minimum Stock Price:', layout=Layout(width='50%'), style=DescriptionStyle(descr…"
            ],
            "application/vnd.jupyter.widget-view+json": {
              "version_major": 2,
              "version_minor": 0,
              "model_id": "b5fdef99cbac4584ae014b1e3a6557a0"
            }
          },
          "metadata": {}
        },
        {
          "output_type": "display_data",
          "data": {
            "text/plain": [
              "IntText(value=21, description='Short-Term Period (Candles):', layout=Layout(width='50%'), style=DescriptionSty…"
            ],
            "application/vnd.jupyter.widget-view+json": {
              "version_major": 2,
              "version_minor": 0,
              "model_id": "467e2946c12c48d692b3d2e8c5b2fef0"
            }
          },
          "metadata": {}
        },
        {
          "output_type": "display_data",
          "data": {
            "text/plain": [
              "IntText(value=63, description='Medium-Term Period (Candles):', layout=Layout(width='50%'), style=DescriptionSt…"
            ],
            "application/vnd.jupyter.widget-view+json": {
              "version_major": 2,
              "version_minor": 0,
              "model_id": "d91335c2d2224f8c9b81bb621967d657"
            }
          },
          "metadata": {}
        },
        {
          "output_type": "display_data",
          "data": {
            "text/plain": [
              "IntText(value=126, description='Long-Term Period (Candles):', layout=Layout(width='50%'), style=DescriptionSty…"
            ],
            "application/vnd.jupyter.widget-view+json": {
              "version_major": 2,
              "version_minor": 0,
              "model_id": "ea19e9d412664cf8aaf335addaba3f67"
            }
          },
          "metadata": {}
        },
        {
          "output_type": "display_data",
          "data": {
            "text/plain": [
              "IntText(value=14, description='RSI Period:', layout=Layout(width='50%'), style=DescriptionStyle(description_wi…"
            ],
            "application/vnd.jupyter.widget-view+json": {
              "version_major": 2,
              "version_minor": 0,
              "model_id": "685bd33245e3424aa5b185b162dc084a"
            }
          },
          "metadata": {}
        },
        {
          "output_type": "display_data",
          "data": {
            "text/plain": [
              "IntText(value=20, description='Short-Term RS Period:', layout=Layout(width='50%'), style=DescriptionStyle(desc…"
            ],
            "application/vnd.jupyter.widget-view+json": {
              "version_major": 2,
              "version_minor": 0,
              "model_id": "3744ef8406134ab7a9cb017508077e15"
            }
          },
          "metadata": {}
        },
        {
          "output_type": "display_data",
          "data": {
            "text/plain": [
              "IntText(value=50, description='Medium-Term RS Period:', layout=Layout(width='50%'), style=DescriptionStyle(des…"
            ],
            "application/vnd.jupyter.widget-view+json": {
              "version_major": 2,
              "version_minor": 0,
              "model_id": "837e4811835f49a0a8cd1399dde5d225"
            }
          },
          "metadata": {}
        },
        {
          "output_type": "display_data",
          "data": {
            "text/plain": [
              "IntText(value=7, description='Minimum One-Year Return (%):', layout=Layout(width='50%'), style=DescriptionStyl…"
            ],
            "application/vnd.jupyter.widget-view+json": {
              "version_major": 2,
              "version_minor": 0,
              "model_id": "6effad105b6742299b3bdb2c8a086713"
            }
          },
          "metadata": {}
        },
        {
          "output_type": "display_data",
          "data": {
            "text/plain": [
              "IntText(value=25, description='Within 52 Weeks High (%):', layout=Layout(width='50%'), style=DescriptionStyle(…"
            ],
            "application/vnd.jupyter.widget-view+json": {
              "version_major": 2,
              "version_minor": 0,
              "model_id": "d57ac9c9ca2c47819be4fb06c83fb2fd"
            }
          },
          "metadata": {}
        },
        {
          "output_type": "display_data",
          "data": {
            "text/plain": [
              "IntText(value=45, description='Minimum Up Days (%):', layout=Layout(width='50%'), style=DescriptionStyle(descr…"
            ],
            "application/vnd.jupyter.widget-view+json": {
              "version_major": 2,
              "version_minor": 0,
              "model_id": "4c497990200e45ec8e887d1c8570443e"
            }
          },
          "metadata": {}
        }
      ]
    },
    {
      "cell_type": "markdown",
      "source": [
        "**Load Stock Symbols**\n",
        "\n",
        "Mount Google Drive to access a list of Indian stock symbols from a CSV file.\n",
        "\n",
        "The commented out code represents an alternative way to define the stock symbols manually, instead of reading them from a CSV file."
      ],
      "metadata": {
        "id": "qa4krGCL2dk7"
      }
    },
    {
      "cell_type": "code",
      "source": [
        "column_name = 'Symbol'\n",
        "symbols_df = pd.DataFrame()\n",
        "\n",
        "try:\n",
        "\n",
        "  if input_symbols_file.value:\n",
        "\n",
        "    uploaded_file = list(input_symbols_file.value.values())[0]\n",
        "\n",
        "    symbols_df = pd.read_csv(pd.io.common.BytesIO(uploaded_file['content']))\n",
        "\n",
        "    uploaded_file_name = uploaded_file['metadata']['name']\n",
        "\n",
        "    # Check if column is present\n",
        "    if column_name in symbols_df.columns:\n",
        "      now_of_rows = symbols_df.shape[0]\n",
        "      if now_of_rows > 0:\n",
        "        symbols_df['Ticker'] = symbols_df[column_name]+'.NS'\n",
        "        print(f\"Loaded {now_of_rows} Stock symbols successfully.\")\n",
        "      else:\n",
        "        print(f\"The uploaded file '{uploaded_file_name}' has no symbols!\")\n",
        "\n",
        "    else:\n",
        "      print(f\"Column '{column_name}' is missing in the uploaded file '{uploaded_file_name}'\")\n",
        "\n",
        "  else:\n",
        "    print(\"Please upload input symbols (.csv) file!\")\n",
        "\n",
        "except Exception as e1:\n",
        "    print(\"Error loading symbols! Please check if uploaded csv file is correct or not.\\n\")\n",
        "    print(e1)"
      ],
      "metadata": {
        "colab": {
          "base_uri": "https://localhost:8080/"
        },
        "id": "42E8WZhLOtRB",
        "outputId": "c5dfe902-159b-4dac-d3a5-197b90c0a5ad"
      },
      "execution_count": 27,
      "outputs": [
        {
          "output_type": "stream",
          "name": "stdout",
          "text": [
            "Loaded 266 Stock symbols successfully.\n"
          ]
        }
      ]
    },
    {
      "cell_type": "markdown",
      "source": [
        "**Downloads daily historical data for stocks and index**\n"
      ],
      "metadata": {
        "id": "Uj0awKZX3hat"
      }
    },
    {
      "cell_type": "code",
      "source": [
        "# Data dictionary to hold stock data\n",
        "daily_data = None\n",
        "index_data = None\n",
        "\n",
        "daily_data_interval = \"1d\"\n",
        "till_date_with_timezone = None\n",
        "\n",
        "# Parse date string into a datetime object\n",
        "till_date_str = (end_date_picker.value).strftime(\"%Y-%m-%d\")\n",
        "till_date_time_obj = datetime.strptime(till_date_str, '%Y-%m-%d')\n",
        "\n",
        "# Get current (todays) date\n",
        "current_date_str = datetime.now(ist_timezone).strftime(\"%Y-%m-%d\")\n",
        "current_date_obj = datetime.strptime(current_date_str, '%Y-%m-%d').date()\n",
        "till_date_obj = datetime.strptime(till_date_str, '%Y-%m-%d').date()\n",
        "\n",
        "# Check if the given date is today or in the past\n",
        "if till_date_obj <= current_date_obj:\n",
        "\n",
        "\n",
        "\n",
        "    # If selected date is current (todays) date, then add current datetime to it\n",
        "    if till_date_str == current_date_str:\n",
        "\n",
        "      # Combine with current time\n",
        "      till_date_with_timezone = datetime.now(ist_timezone)\n",
        "    else:\n",
        "\n",
        "      # Define constant time to add (e.g., 5 hours, 30 minutes, 15 seconds)\n",
        "      constant_time = timedelta(hours=22, minutes=00, seconds=00)\n",
        "\n",
        "      till_date_with_timezone = ist_timezone.localize(till_date_time_obj + constant_time)\n",
        "\n",
        "    from_date_with_timezone = ist_timezone.localize(till_date_time_obj - timedelta(days=365 * 2))\n",
        "\n",
        "    print(f\"Downloading Daily Time Frame Data:\")\n",
        "    print(f\"From: {from_date_with_timezone}\")\n",
        "    print(f\"Till: {till_date_with_timezone}\\n\")\n",
        "\n",
        "\n",
        "    daily_data = yf.download(\n",
        "        tickers=symbols_df['Ticker'].tolist(),\n",
        "        threads=True,\n",
        "        group_by='ticker',\n",
        "        period=None,\n",
        "        start=from_date_with_timezone,\n",
        "        end= till_date_with_timezone,\n",
        "        interval=daily_data_interval)\n",
        "\n",
        "    index_data = yf.download(\n",
        "      tickers=\"^NSEI\",\n",
        "      start=from_date_with_timezone,\n",
        "      end=till_date_with_timezone,\n",
        "      interval=daily_data_interval)\n",
        "\n",
        "else:\n",
        "    print(f\"{till_date_str} | Till date should not be future date.\")"
      ],
      "metadata": {
        "colab": {
          "base_uri": "https://localhost:8080/"
        },
        "id": "JEm7Gx2k4jVm",
        "outputId": "c7f296dc-c0fc-4900-9588-6d3b5697df15"
      },
      "execution_count": 28,
      "outputs": [
        {
          "output_type": "stream",
          "name": "stdout",
          "text": [
            "Downloading Daily Time Frame Data:\n",
            "From: 2022-11-20 00:00:00+05:30\n",
            "Till: 2024-11-19 13:19:07.104510+05:30\n",
            "\n"
          ]
        },
        {
          "output_type": "stream",
          "name": "stderr",
          "text": [
            "[*********************100%***********************]  266 of 266 completed\n",
            "[*********************100%***********************]  1 of 1 completed\n"
          ]
        }
      ]
    },
    {
      "cell_type": "markdown",
      "source": [
        "**Calculate Relative Strength Index (RSI)**\n",
        "\n",
        "Calculate the Relative Strength Index (RSI) for a stock's price data."
      ],
      "metadata": {
        "id": "VLU97CMz335e"
      }
    },
    {
      "cell_type": "code",
      "source": [
        "def calculate_rsi(df, period):\n",
        "\n",
        "    delta = df[\"Close\"].diff()\n",
        "    up, down = delta.copy(), delta.copy()\n",
        "    up[up < 0] = 0\n",
        "    down[down > 0] = 0\n",
        "    _gain = up.ewm(com=(period - 1), min_periods=period).mean()\n",
        "    _loss = down.abs().ewm(com=(period - 1), min_periods=period).mean()\n",
        "    RS = _gain / _loss\n",
        "    RSI = 100 - (100 / (1 + RS))\n",
        "    return RSI"
      ],
      "metadata": {
        "id": "FkZ29qBus9vF"
      },
      "execution_count": 29,
      "outputs": []
    },
    {
      "cell_type": "markdown",
      "source": [
        "**Calculate Relative Strength (RS)**\n",
        "\n",
        "Calculate Relative Strength of a stock against a market index (NIFTY50) over a specified period."
      ],
      "metadata": {
        "id": "_EqLN5x2Oxyy"
      }
    },
    {
      "cell_type": "code",
      "source": [
        "def calculate_rs(stock_data, index_data, length):\n",
        "  # Truncate both DataFrames to the minimum length\n",
        "  stock_data = stock_data.tail(length+5).copy()\n",
        "  index_data = index_data.tail(length+5).copy()\n",
        "\n",
        "  # Reset the index\n",
        "  stock_data = stock_data.reset_index(drop=True)\n",
        "  index_data = index_data.reset_index(drop=True)\n",
        "\n",
        "  # Calculate percentage change over the specified period\n",
        "  stock_data['Return'] = stock_data['Close'].pct_change(periods=length)\n",
        "  index_data['Return'] = index_data['Close'].pct_change(periods=length)\n",
        "\n",
        "  # Calculate Relative Strength\n",
        "  rs = round(stock_data['Return']  - index_data['Return'], 2)\n",
        "\n",
        "  return rs"
      ],
      "metadata": {
        "id": "ho1nVoYMOz2Q"
      },
      "execution_count": 30,
      "outputs": []
    },
    {
      "cell_type": "markdown",
      "source": [
        "**Stock Filtering and Analysis**\n",
        "\n",
        "Filter the stocks using conditions:\n",
        "\n",
        "\n",
        "*   Stock should not be new, should be listed at least 6 months ago\n",
        "*   EMA (Stock Price Should be above key Moving Averages 50, 100, 200)\n",
        "*   RSI should be greater than 40 and less than 70\n",
        "*   Last one year return should be greater than 7-8% (FD Return)\n",
        "*   Within 20% or 25% from 52-Week High\n",
        "*   Up Days (Green Candles) Percentage should be greater than 45%\n"
      ],
      "metadata": {
        "id": "aDpHG_l-5pH2"
      }
    },
    {
      "cell_type": "code",
      "source": [
        "# Create a DataFrame for summary\n",
        "summary = []\n",
        "\n",
        "pct_multiplier = round((100 - within_52_weeks_high_pct.value) / 100, 2)\n",
        "\n",
        "long_term_period_label = f'{long_term_period.value}D'\n",
        "medium_term_period_label = f'{medium_term_period.value}D'\n",
        "short_term_period_label = f'{short_term_period.value}D'\n",
        "\n",
        "long_term_return_label = f'Return {long_term_period_label}'\n",
        "medium_term_return_label = f'Return {medium_term_period_label}'\n",
        "short_term_return_label = f'Return {short_term_period_label}'\n",
        "\n",
        "long_term_rank_label = f'Rank {long_term_period_label}'\n",
        "medium_term_rank_label = f'Rank {medium_term_period_label}'\n",
        "short_term_rank_label = f'Rank {short_term_period_label}'\n",
        "\n",
        "RSI_label = f'RSI {rsi_period.value}'\n",
        "Short_Term_RS_label = f'NIFTY RS {short_term_rs_period.value}'\n",
        "Medium_Term_RS_label = f'NIFTY RS {medium_term_rs_period.value}'\n",
        "\n",
        "row_counter = 0\n",
        "\n",
        "for ticker in symbols_df['Ticker'].tolist():\n",
        "\n",
        "    df = daily_data[ticker].copy()\n",
        "    symbol = ticker.replace(\".NS\", \"\")\n",
        "    df.dropna(inplace=True)\n",
        "\n",
        "    # No. of candles in stock data\n",
        "    no_of_rows = df.shape[0]\n",
        "\n",
        "    # If stock data is less than six months (126 candles)\n",
        "    if df.empty or no_of_rows < 126:\n",
        "        continue\n",
        "\n",
        "    sma_condition = False\n",
        "    last_one_year_return_condition = False\n",
        "    within_pct_52_week_high_condition = False\n",
        "    up_days_pct_condition = False\n",
        "\n",
        "    try:\n",
        "\n",
        "        # Latest and previous close price\n",
        "        latest_close_price = round(df['Close'].iloc[-1], 2)\n",
        "        previous_day_high_price = round(df['High'].iloc[-2], 2)\n",
        "\n",
        "\n",
        "        # Check last one year return condition and 52-Weeks High Condition\n",
        "        if no_of_rows >= 252:\n",
        "            # 52-week high\n",
        "\n",
        "            high_52_week = round((df['High'][-252:]).max(), 2)\n",
        "            within_pct_52_week_high_condition = latest_close_price >= high_52_week * pct_multiplier\n",
        "\n",
        "            #one_year_return = round((latest_close_price / df['Close'].iloc[-252] - 1) * 100, 2)\n",
        "            one_year_return = round(((latest_close_price - df['Close'].iloc[-252]) / df['Close'].iloc[-251]) * 100, 2)\n",
        "\n",
        "\n",
        "            # Last one year return condition\n",
        "            last_one_year_return_condition = one_year_return >= minimum_one_year_return.value\n",
        "\n",
        "\n",
        "        # If stock data is less than a year, return since stock is listed\n",
        "        else:\n",
        "            # 52-week high\n",
        "            high_52_week = round((df['High'][-no_of_rows:]).max(), 2)\n",
        "            within_pct_52_week_high_condition = latest_close_price >= high_52_week * pct_multiplier\n",
        "\n",
        "            # Last one year return\n",
        "            # one_year_return = round((latest_close_price/ df['Close'].iloc[-no_of_rows] - 1) * 100, 2)\n",
        "            one_year_return = round(((latest_close_price - df['Close'].iloc[-no_of_rows]) / df['Close'].iloc[-no_of_rows+1]) * 100, 2)\n",
        "\n",
        "             # Last one year return condition\n",
        "            last_one_year_return_condition = one_year_return >= minimum_one_year_return.value\n",
        "\n",
        "\n",
        "\n",
        "        # Calculate SMA\n",
        "        df['SMA_20'] = df['Close'].rolling(window=20).mean()\n",
        "        df['SMA_50'] = df['Close'].rolling(window=50).mean()\n",
        "\n",
        "        latest_sma_20 = round(df['SMA_20'].iloc[-1], 2)\n",
        "        latest_sma_50 = round(df['SMA_50'].iloc[-1], 2)\n",
        "\n",
        "        # Calculate EMA-200, 52 Weeks High and one year return\n",
        "        if no_of_rows >= 200:\n",
        "\n",
        "            #df['EMA_200'] = df['Close'].ewm(span=200).mean()\n",
        "            df['SMA_150'] = df['Close'].rolling(window=150).mean()\n",
        "            df['SMA_200'] = df['Close'].rolling(window=200).mean()\n",
        "\n",
        "            latest_sma_150 = round(df['SMA_150'].iloc[-1], 2)\n",
        "            latest_sma_200 = round(df['SMA_200'].iloc[-1], 2)\n",
        "\n",
        "            # SMA condition\n",
        "            sma_condition = latest_close_price >= latest_sma_50 and\\\n",
        "                            latest_sma_20 > latest_sma_50 and\\\n",
        "                            latest_sma_50 > latest_sma_150 and\\\n",
        "                            latest_sma_150 > latest_sma_200\n",
        "\n",
        "        elif no_of_rows >= 150:\n",
        "\n",
        "            df['SMA_150'] = df['Close'].rolling(window=150).mean()\n",
        "\n",
        "            latest_sma_150 = round(df['SMA_150'].iloc[-1], 2)\n",
        "\n",
        "            # SMA condition\n",
        "            sma_condition = latest_close_price >= latest_sma_50 and\\\n",
        "                            latest_sma_20 > latest_sma_50 and\\\n",
        "                            latest_sma_50 > latest_sma_150\n",
        "\n",
        "        else:\n",
        "\n",
        "            # SMA condition\n",
        "            sma_condition = latest_close_price >= latest_sma_50 and\\\n",
        "                            latest_sma_20 > latest_sma_50\n",
        "\n",
        "\n",
        "        # More than 45% up days in the last 6 months (126 trading days)\n",
        "        long_term_data = df['Close'].iloc[-long_term_period.value:]\n",
        "\n",
        "        up_days = (long_term_data.pct_change() > 0).sum()\n",
        "        up_days_pct = up_days / len(long_term_data) * 100\n",
        "\n",
        "        up_days_pct_condition = up_days_pct > minumun_up_days_pct.value\n",
        "\n",
        "\n",
        "        # Calculate RSI (Relative Strength Index)\n",
        "        df['RSI'] = calculate_rsi(df, rsi_period.value)\n",
        "        daily_rsi = round(df['RSI'].iloc[-1], 2)\n",
        "\n",
        "\n",
        "        rsi_condition = daily_rsi > 50 and daily_rsi < 70\n",
        "\n",
        "\n",
        "        # Latest Volume\n",
        "        latest_volume = round(df['Volume'].iloc[-1], 2)\n",
        "\n",
        "\n",
        "        # 20-Day Avergae Volume\n",
        "        df['Volume_SMA_20'] = df['Volume'].rolling(window=20).mean()\n",
        "        daily_average_volume = round(df['Volume_SMA_20'].iloc[-1], 2)\n",
        "\n",
        "        volume_condition = latest_volume > daily_average_volume and daily_average_volume > 100000\n",
        "\n",
        "\n",
        "        # latest_close_price > latest_open_price\n",
        "        # Filtering criteria\n",
        "        if (\n",
        "            latest_close_price >= minimum_stock_price.value and\n",
        "            latest_close_price > previous_day_high_price and\n",
        "            volume_condition and\n",
        "            sma_condition and\n",
        "            last_one_year_return_condition and\n",
        "            within_pct_52_week_high_condition and\n",
        "            up_days_pct_condition and\n",
        "            rsi_condition):\n",
        "\n",
        "            # Calculate returns\n",
        "            long_term_return = round(((df['Close'].iloc[-1] - df['Close'].iloc[-(long_term_period.value+1)]) / df['Close'].iloc[-(long_term_period.value+1)]) * 100, 2)\n",
        "            medium_term_return = round(((df['Close'].iloc[-1] - df['Close'].iloc[-(medium_term_period.value+1)]) /  df['Close'].iloc[-(medium_term_period.value+1)]) * 100, 2)\n",
        "            short_term_return = round(((df['Close'].iloc[-1] - df['Close'].iloc[-(short_term_period.value+1)]) / df['Close'].iloc[-(short_term_period.value+1)]) * 100, 2)\n",
        "\n",
        "            # Calculate RS (Relative Strength)\n",
        "            short_term_rs = calculate_rs(df, index_data, short_term_rs_period.value)\n",
        "            daily_short_term_rs = short_term_rs.iloc[-1]\n",
        "\n",
        "            medium_term_rs = calculate_rs(df, index_data, medium_term_rs_period.value)\n",
        "            daily_medium_term_rs = medium_term_rs.iloc[-1]\n",
        "\n",
        "\n",
        "            last_candle_date = df.index[-1].date().strftime(\"%Y-%m-%d\")\n",
        "\n",
        "            # <=500\t0.50%\t0.005\n",
        "            # >500 and <= 1000\t0.30%\t0.003\n",
        "            # > 1000\t0.20%\t0.002\n",
        "\n",
        "            entry_offset_percentage = 0\n",
        "            if latest_close_price <= 500:\n",
        "                entry_offset_percentage = 0.005\n",
        "\n",
        "            elif latest_close_price > 500 and latest_close_price <= 1000:\n",
        "                entry_offset_percentage = 0.003\n",
        "\n",
        "            elif latest_close_price > 1000:\n",
        "                entry_offset_percentage = 0.002\n",
        "\n",
        "\n",
        "            last_candle_high = round(df['High'].iloc[-1], 2)\n",
        "            entry_price_offset_value = round(last_candle_high * entry_offset_percentage, 2)\n",
        "            entry_price = round(last_candle_high + (entry_price_offset_value), 2)\n",
        "            stop_loss = round( entry_price - (entry_price*0.04), 2)\n",
        "\n",
        "            summary.append({\n",
        "                'Date': last_candle_date,\n",
        "                'Ticker': symbol,\n",
        "                long_term_return_label: long_term_return,\n",
        "                medium_term_return_label: medium_term_return,\n",
        "                short_term_return_label: short_term_return,\n",
        "                RSI_label: daily_rsi,\n",
        "                Short_Term_RS_label: daily_short_term_rs,\n",
        "                Medium_Term_RS_label:  daily_medium_term_rs,\n",
        "                \"LTP\": latest_close_price,\n",
        "                \"Entry Price\": entry_price,\n",
        "                \"Stop-loss\": stop_loss\n",
        "            })\n",
        "\n",
        "            row_counter += 1\n",
        "    except Exception as e:\n",
        "        print(f\"Error analyzing {symbol}: {e}\")\n"
      ],
      "metadata": {
        "id": "uLI4rZaP5GmB"
      },
      "execution_count": 31,
      "outputs": []
    },
    {
      "cell_type": "markdown",
      "source": [
        "**Ranks stocks by momentum, select top performers**"
      ],
      "metadata": {
        "id": "3XSob4Gt-zzH"
      }
    },
    {
      "cell_type": "code",
      "source": [
        "# Convert summary to DataFrame\n",
        "df_summary = pd.DataFrame(summary)\n",
        "\n",
        "df_summary[long_term_rank_label] = df_summary[long_term_return_label].rank(ascending=False, method='dense')\n",
        "df_summary[medium_term_rank_label] = df_summary[medium_term_return_label].rank(ascending=False, method='dense')\n",
        "df_summary[short_term_rank_label] = df_summary[short_term_return_label].rank(ascending=False, method='dense')\n",
        "\n",
        "\n",
        "# Calculate final rank\n",
        "df_summary['Cumulative_Rank'] = (df_summary[long_term_rank_label] + df_summary[medium_term_rank_label] + df_summary[short_term_rank_label])/3\n",
        "\n",
        "all_periods_label = f'{long_term_period_label}, {medium_term_period_label}, {short_term_period_label}'\n",
        "all_returns_label = f'Returns ({all_periods_label})'\n",
        "all_ranks_label = f'Ranks ({all_periods_label})'\n",
        "\n",
        "# Sort by final rank and get top 40\n",
        "df_summary_sorted = df_summary.sort_values('Cumulative_Rank').head(40)\n",
        "df_summary_sorted = df_summary_sorted.drop(columns=['Cumulative_Rank', long_term_return_label, medium_term_return_label, short_term_return_label, long_term_rank_label, medium_term_rank_label, short_term_rank_label])\n",
        "\n",
        "# Assign position based on final rank\n",
        "# Arguments: position (index), column name, values\n",
        "#df_summary_sorted['Rank'] = np.arange(1, len(df_summary_sorted) + 1)\n",
        "df_summary_sorted.insert(2, \"Rank\", np.arange(1, len(df_summary_sorted) + 1))\n",
        "df_summary_sorted.reset_index(drop=True, inplace=True)\n",
        "\n"
      ],
      "metadata": {
        "id": "f9J_KEgsdnub"
      },
      "execution_count": 32,
      "outputs": []
    },
    {
      "cell_type": "markdown",
      "source": [
        "**Visualizes the top stock rankings using a table and highlights the top 20 stocks**"
      ],
      "metadata": {
        "id": "exKfJJTB_-xw"
      }
    },
    {
      "cell_type": "code",
      "source": [
        "# Prepare table data\n",
        "tbl_data = []\n",
        "for i, row in df_summary_sorted.iterrows():\n",
        "    # row[all_returns_label], row[all_ranks_label]\n",
        "\n",
        "    tbl_data.append([\n",
        "        row['Date'],\n",
        "        row['Ticker'],\n",
        "        row['Rank'],\n",
        "        row[RSI_label],\n",
        "        row[Short_Term_RS_label],\n",
        "        row[Medium_Term_RS_label],\n",
        "        row['LTP'],\n",
        "        row['Entry Price'],\n",
        "        row['Stop-loss']\n",
        "    ])\n",
        "\n",
        "no_of_selected_stocks = len(tbl_data)\n",
        "# Plot the results using matplotlib\n",
        "fig, ax = plt.subplots(figsize=(20, 5))\n",
        "# fig, ax = plt.subplots(figsize=(20, 13))\n",
        "ax.axis('tight')\n",
        "ax.axis('off')\n",
        "\n",
        "# Create a table\n",
        "col_labels = ['Date',\n",
        "              'Ticker',\n",
        "              'Rank',\n",
        "              RSI_label,\n",
        "              Short_Term_RS_label,\n",
        "              Medium_Term_RS_label,\n",
        "              'LTP',\n",
        "              'Entry Price',\n",
        "              'Stop-loss'\n",
        "             ]\n",
        "\n",
        "table = ax.table(cellText=tbl_data, colLabels=col_labels, cellLoc='center', loc='center')\n",
        "table.auto_set_column_width(col=list(range(len(col_labels))))  # Auto-adjust column width\n",
        "table.auto_set_font_size(False)\n",
        "table.set_fontsize(12)\n",
        "table.scale(1, 1.5)\n",
        "\n",
        "if no_of_selected_stocks > 20:\n",
        "  # Draw a red line to separate the top 15\n",
        "  for i in range(len(col_labels)):\n",
        "      cell = table[(20, i)]\n",
        "      cell.set_edgecolor('red')\n",
        "      cell.set_linewidth(3)\n",
        "\n",
        "# Adjust layout\n",
        "plt.subplots_adjust(left=0.1, top=0.8)  # Adjust top parameter for title position\n",
        "\n",
        "# ({till_date_str})\n",
        "plt.title(f'Top {no_of_selected_stocks} Stocks Momentum Ranking', fontsize=18, y=0.85)  # y parameter for title position\n",
        "plt.show()"
      ],
      "metadata": {
        "colab": {
          "base_uri": "https://localhost:8080/",
          "height": 309
        },
        "id": "o-IDok8BdsFj",
        "outputId": "9672fbc6-2891-4f12-8229-945ce9103079"
      },
      "execution_count": 33,
      "outputs": [
        {
          "output_type": "display_data",
          "data": {
            "text/plain": [
              "<Figure size 2000x500 with 1 Axes>"
            ],
            "image/png": "[encoded data removed]"
          },
          "metadata": {}
        }
      ]
    },
    {
      "cell_type": "markdown",
      "source": [
        "**Save the stock rankings to an Excel file on Google Drive.**"
      ],
      "metadata": {
        "id": "17DFUo1j__6g"
      }
    },
    {
      "cell_type": "code",
      "source": [
        "# save table in Excel file in Google drive\n",
        "df_summary_sorted['CMP'] = df_summary_sorted.apply(lambda row: f'=GOOGLEFINANCE(\"NSE:\"&B{row.name+2}, \"price\")', axis=1)\n",
        "df_summary_sorted['CHANGE %'] = df_summary_sorted.apply(lambda row: f'=ROUND((J{row.name+2} - G{row.name+2}) / J{row.name+2} * 100, 2)', axis=1)\n",
        "\n",
        "# save table in Excel file in Google drive\n",
        "current_datetime_ist = datetime.now(ist_timezone)\n",
        "date_string = current_datetime_ist.strftime(\"%d_%b_%Y_%I_%M_%p\")\n",
        "\n",
        "output_file_path = f'momentum_scan_{long_term_period_label}_{medium_term_period_label}_{short_term_period_label}_{date_string}.xlsx'\n",
        "\n",
        "# Assuming 'df_summary_sorted' is your DataFrame\n",
        "df_summary_sorted.to_excel(output_file_path, index=False)\n",
        "\n",
        "# If you want to download the file locally as well, you can uncomment the following line:\n",
        "files.download(output_file_path)\n",
        "print(\"Excel file downloaded successfully.\")"
      ],
      "metadata": {
        "colab": {
          "base_uri": "https://localhost:8080/",
          "height": 35
        },
        "id": "hP-DakTQqa7E",
        "outputId": "b284397e-76fc-4ec2-aa21-9547e15777d3"
      },
      "execution_count": 34,
      "outputs": [
        {
          "output_type": "display_data",
          "data": {
            "text/plain": [
              "<IPython.core.display.Javascript object>"
            ],
            "application/javascript": [
              "\n",
              "    async function download(id, filename, size) {\n",
              "      if (!google.colab.kernel.accessAllowed) {\n",
              "        return;\n",
              "      }\n",
              "      const div = document.createElement('div');\n",
              "      const label = document.createElement('label');\n",
              "      label.textContent = `Downloading \"${filename}\": `;\n",
              "      div.appendChild(label);\n",
              "      const progress = document.createElement('progress');\n",
              "      progress.max = size;\n",
              "      div.appendChild(progress);\n",
              "      document.body.appendChild(div);\n",
              "\n",
              "      const buffers = [];\n",
              "      let downloaded = 0;\n",
              "\n",
              "      const channel = await google.colab.kernel.comms.open(id);\n",
              "      // Send a message to notify the kernel that we're ready.\n",
              "      channel.send({})\n",
              "\n",
              "      for await (const message of channel.messages) {\n",
              "        // Send a message to notify the kernel that we're ready.\n",
              "        channel.send({})\n",
              "        if (message.buffers) {\n",
              "          for (const buffer of message.buffers) {\n",
              "            buffers.push(buffer);\n",
              "            downloaded += buffer.byteLength;\n",
              "            progress.value = downloaded;\n",
              "          }\n",
              "        }\n",
              "      }\n",
              "      const blob = new Blob(buffers, {type: 'application/binary'});\n",
              "      const a = document.createElement('a');\n",
              "      a.href = window.URL.createObjectURL(blob);\n",
              "      a.download = filename;\n",
              "      div.appendChild(a);\n",
              "      a.click();\n",
              "      div.remove();\n",
              "    }\n",
              "  "
            ]
          },
          "metadata": {}
        },
        {
          "output_type": "display_data",
          "data": {
            "text/plain": [
              "<IPython.core.display.Javascript object>"
            ],
            "application/javascript": [
              "download(\"download_f2a9e62c-9128-4df5-a7cb-c34071d28766\", \"momentum_scan_126D_63D_21D_19_Nov_2024_01_20_PM.xlsx\", 5191)"
            ]
          },
          "metadata": {}
        },
        {
          "output_type": "stream",
          "name": "stdout",
          "text": [
            "Excel file downloaded successfully.\n"
          ]
        }
      ]
    }
  ]
}